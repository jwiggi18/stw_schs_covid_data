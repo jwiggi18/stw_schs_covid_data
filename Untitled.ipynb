{
 "cells": [
  {
   "cell_type": "code",
   "execution_count": null,
   "id": "8db6b301",
   "metadata": {},
   "outputs": [],
   "source": [
    "import pandas as pd\n",
    "import matplotlib.pyplot as plt\n",
    "# if using a Jupyter notebook, include:\n",
    "%matplotlib inline"
   ]
  },
  {
   "cell_type": "code",
   "execution_count": null,
   "id": "f9cc41ab",
   "metadata": {},
   "outputs": [],
   "source": [
    "sheetid =\"1yzfwp9MzAqGSWw4GTDDNPnQosUUpUR7nVEPrn1DiBNE\"\n",
    "\n",
    "sheet_name = \"Dashboard\" #this comes from the google sheet"
   ]
  },
  {
   "cell_type": "code",
   "execution_count": null,
   "id": "748b529e",
   "metadata": {},
   "outputs": [],
   "source": []
  },
  {
   "cell_type": "code",
   "execution_count": null,
   "id": "85601436",
   "metadata": {},
   "outputs": [],
   "source": [
    "sch_data = pd.read_csv(gsheet_url)"
   ]
  },
  {
   "cell_type": "code",
   "execution_count": null,
   "id": "7c2d10bd",
   "metadata": {},
   "outputs": [],
   "source": [
    "#imported data has a bunch of 'Unnamed' empty columns\n",
    "sch_data = sch_data.loc[:, ~sch_data.columns.str.contains('^Unnamed')]"
   ]
  },
  {
   "cell_type": "code",
   "execution_count": null,
   "id": "b421c86c",
   "metadata": {},
   "outputs": [],
   "source": [
    "#change name of first column\n",
    "sch_data = sch_data.rename(columns={\"2021-2022 COVID-19 DASHBOARD \":\"schools\"}) #there's a space after DAHSBOARD"
   ]
  },
  {
   "cell_type": "code",
   "execution_count": null,
   "id": "28c93929",
   "metadata": {},
   "outputs": [],
   "source": [
    "#make schools the index\n",
    "sch_index = sch_data.set_index(\"schools\")"
   ]
  },
  {
   "cell_type": "code",
   "execution_count": null,
   "id": "46c7425e",
   "metadata": {},
   "outputs": [],
   "source": [
    "#make nas 0\n",
    "sch_index = sch_index.fillna(0)"
   ]
  },
  {
   "cell_type": "code",
   "execution_count": null,
   "id": "9bc41091",
   "metadata": {},
   "outputs": [],
   "source": [
    "#keep only the rows with school or office names (not using indexes incase they change the spreadsheet)\n",
    "sch_index = sch_index.loc[[\"Highland Park\",\n",
    "                      \"Richmond\",\n",
    "                      \"Sangre Ridge\",\n",
    "                      \"Skyline\",\n",
    "                      \"Westwood\",\n",
    "                      \"Will Rogers\",\n",
    "                      \"SMS\",\n",
    "                      \"SJHS\",\n",
    "                      \"SHS\",\n",
    "                      \"Lincoln Academy\",\n",
    "                      \"Virtual Academy\",\n",
    "                      \"Facilities\",\n",
    "                      \"Child Nutrition***\",\n",
    "                      \"Transportation\",\n",
    "                      \"Technology\",\n",
    "                      \"Central Office\",\n",
    "                      \"Other (Multiple sites)\",\n",
    "                      \"Total\"]]"
   ]
  }
 ],
 "metadata": {
  "kernelspec": {
   "display_name": "Python 3",
   "language": "python",
   "name": "python3"
  },
  "language_info": {
   "codemirror_mode": {
    "name": "ipython",
    "version": 3
   },
   "file_extension": ".py",
   "mimetype": "text/x-python",
   "name": "python",
   "nbconvert_exporter": "python",
   "pygments_lexer": "ipython3",
   "version": "3.8.8"
  }
 },
 "nbformat": 4,
 "nbformat_minor": 5
}
