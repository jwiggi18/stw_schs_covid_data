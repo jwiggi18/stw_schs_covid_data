{
 "cells": [
  {
   "cell_type": "code",
   "execution_count": null,
   "id": "18773233",
   "metadata": {},
   "outputs": [],
   "source": [
    "import pandas as pd\n",
    "import matplotlib.pyplot as plt\n",
    "# if using a Jupyter notebook, include:\n",
    "%matplotlib inline"
   ]
  },
  {
   "cell_type": "code",
   "execution_count": null,
   "id": "219340a6",
   "metadata": {},
   "outputs": [],
   "source": [
    "sheetid =\"1yzfwp9MzAqGSWw4GTDDNPnQosUUpUR7nVEPrn1DiBNE\"\n",
    "\n",
    "sheet_name = \"Dashboard\" #this comes from the google sheet"
   ]
  },
  {
   "cell_type": "code",
   "execution_count": null,
   "id": "d5c88737",
   "metadata": {},
   "outputs": [],
   "source": [
    "#inserting the sheetid and sheet_name\n",
    "gsheet_url = \"https://docs.google.com/spreadsheets/d/{}/gviz/tq?tqx=out:csv&sheet={}\".format(sheetid, sheet_name)\n"
   ]
  },
  {
   "cell_type": "code",
   "execution_count": null,
   "id": "4a1c7911",
   "metadata": {},
   "outputs": [],
   "source": [
    "sch_data = pd.read_csv(gsheet_url)"
   ]
  },
  {
   "cell_type": "code",
   "execution_count": null,
   "id": "1dcce0ce",
   "metadata": {},
   "outputs": [],
   "source": [
    "#imported data has a bunch of 'Unnamed' empty columns\n",
    "sch_data = sch_data.loc[:, ~sch_data.columns.str.contains('^Unnamed')]"
   ]
  },
  {
   "cell_type": "code",
   "execution_count": null,
   "id": "5cbc2dea",
   "metadata": {},
   "outputs": [],
   "source": [
    "#change name of first column\n",
    "sch_data = sch_data.rename(columns={\"2021-2022 COVID-19 DASHBOARD \":\"schools\"}) #there's a space after DAHSBOARD"
   ]
  },
  {
   "cell_type": "code",
   "execution_count": null,
   "id": "c6607ce5",
   "metadata": {},
   "outputs": [],
   "source": [
    "#make schools the index\n",
    "sch_index = sch_data.set_index(\"schools\")"
   ]
  },
  {
   "cell_type": "code",
   "execution_count": null,
   "id": "c34f3a47",
   "metadata": {},
   "outputs": [],
   "source": [
    "#make nas 0\n",
    "sch_index = sch_index.fillna(0)"
   ]
  },
  {
   "cell_type": "code",
   "execution_count": null,
   "id": "c85a273e",
   "metadata": {},
   "outputs": [],
   "source": [
    "#keep only the rows with school or office names (not using indexes incase they change the spreadsheet)\n",
    "sch_index = sch_index.loc[[\"Highland Park\",\n",
    "                      \"Richmond\",\n",
    "                      \"Sangre Ridge\",\n",
    "                      \"Skyline\",\n",
    "                      \"Westwood\",\n",
    "                      \"Will Rogers\",\n",
    "                      \"SMS\",\n",
    "                      \"SJHS\",\n",
    "                      \"SHS\",\n",
    "                      \"Lincoln Academy\",\n",
    "                      \"Virtual Academy\",\n",
    "                      \"Facilities\",\n",
    "                      \"Child Nutrition***\",\n",
    "                      \"Transportation\",\n",
    "                      \"Technology\",\n",
    "                      \"Central Office\",\n",
    "                      \"Other (Multiple sites)\",\n",
    "                      \"Total\"]]"
   ]
  }
 ],
 "metadata": {
  "kernelspec": {
   "display_name": "Python 3",
   "language": "python",
   "name": "python3"
  },
  "language_info": {
   "codemirror_mode": {
    "name": "ipython",
    "version": 3
   },
   "file_extension": ".py",
   "mimetype": "text/x-python",
   "name": "python",
   "nbconvert_exporter": "python",
   "pygments_lexer": "ipython3",
   "version": "3.8.8"
  }
 },
 "nbformat": 4,
 "nbformat_minor": 5
}
